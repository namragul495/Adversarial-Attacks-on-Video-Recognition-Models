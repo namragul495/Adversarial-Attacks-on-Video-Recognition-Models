{
 "cells": [
  {
   "cell_type": "code",
   "execution_count": 27,
   "id": "a978abde-6587-430e-a0fa-e9340f1d5e9e",
   "metadata": {},
   "outputs": [],
   "source": [
    "# -*- coding:utf-8 -*-\n",
    "import tensorflow as tf\n",
    "from tensorflow import keras\n",
    "import numpy as np\n",
    "import random\n",
    "import cv2\n",
    "import os\n",
    "\n",
    "orignal =[]\n"
   ]
  },
  {
   "cell_type": "code",
   "execution_count": 28,
   "id": "c3e5fed3-95a2-484d-bb6a-e27adebcc39b",
   "metadata": {},
   "outputs": [],
   "source": [
    "#Read all test videos\n",
    "test=[]\n",
    "f= 'sample_images_RA'\n",
    "Test_videos =[]\n",
    "test_list = open('Labels/test.txt','r')\n",
    "for line in test_list:\n",
    "    name = line.split(\" \")[0]\n",
    "    x=line.split(\" \")[-1]\n",
    "    test.append(x[0])\n",
    "    Test_videos.append(f+\"/\"+name)"
   ]
  },
  {
   "cell_type": "code",
   "execution_count": 29,
   "id": "42d7a932-2fd6-4201-8b0d-10a1f8e7c6f9",
   "metadata": {},
   "outputs": [],
   "source": [
    "for i in test:\n",
    "    if i=='0':\n",
    "        orignal.append('normal')\n",
    "    else:\n",
    "        orignal.append('abnormal')"
   ]
  },
  {
   "cell_type": "code",
   "execution_count": 30,
   "id": "45965bae-29b0-4176-bfd4-af9785dbb78f",
   "metadata": {},
   "outputs": [],
   "source": [
    "#To load pre-trained model, trained on 5 classes \n",
    "#model = tf.keras.models.load_model('Trained Models/model_P3D.h5',compile=False)\n",
    "\n",
    "\n",
    "#To load pre-trained weights,\n",
    "model = tf.keras.models.load_model('Trained Models/weights_model_P3D.hdf5',compile=False)"
   ]
  },
  {
   "cell_type": "code",
   "execution_count": 31,
   "id": "b20509b4-f21a-4c7d-a5c6-96cdadb1fb31",
   "metadata": {},
   "outputs": [],
   "source": [
    "#two classes labels\n",
    "labels0 ={0:'normal', 1:'abnormal'}\n",
    "prediction = []"
   ]
  },
  {
   "cell_type": "code",
   "execution_count": 7,
   "id": "18cac703-2ed7-4684-88ee-399264910f77",
   "metadata": {},
   "outputs": [],
   "source": [
    "def play_video(frames, frame_rate=5):\n",
    "    \"\"\"\n",
    "    Play a sequence of frames as a video.\n",
    "\n",
    "    Parameters:\n",
    "    - frames: List of frames (numpy arrays representing images).\n",
    "    - frame_rate: Frames per second (default is 25).\n",
    "    \"\"\"\n",
    "    if not frames:\n",
    "        print(\"No frames to play.\")\n",
    "        return\n",
    "\n",
    "    # Get the height and width from the first frame\n",
    "    height, width, _ = frames[0].shape\n",
    "    size = (width, height)\n",
    "\n",
    "    # Create a VideoWriter object to save the video\n",
    "    video_writer = cv2.VideoWriter('output_video.avi', cv2.VideoWriter_fourcc(*'DIVX'), frame_rate, size)\n",
    "\n",
    "    # Display each frame and write it to the video file\n",
    "    for frame in frames:\n",
    "        cv2.imshow('Video Player', frame)\n",
    "        video_writer.write(frame)\n",
    "\n",
    "        # Break the loop if the 'q' key is pressed\n",
    "        if cv2.waitKey(1) & 0xFF == ord('q'):\n",
    "            break\n",
    "\n",
    "    # Release the VideoWriter and close the OpenCV window\n",
    "    video_writer.release()\n",
    "    cv2.destroyAllWindows()"
   ]
  },
  {
   "cell_type": "code",
   "execution_count": 32,
   "id": "84493528-9c8d-4815-8ff0-bdefe1b7772d",
   "metadata": {},
   "outputs": [],
   "source": [
    "for video in Test_videos:\n",
    "    vid = []  # reads frames of videos\n",
    "    abnor = 0  # initialize abnormal count with 0\n",
    "    path = video\n",
    "    images = os.listdir(path)\n",
    "\n",
    "    # Define frame drop rate\n",
    "    frame_drop_rate = 3  # For example, drop every 2nd frame\n",
    "\n",
    "    for idx, img in enumerate(images):\n",
    "        if idx % frame_drop_rate == 0:  # Skip frames based on frame_drop_rate\n",
    "            continue\n",
    "\n",
    "        img_path = os.path.join(path, img)\n",
    "        img2 = cv2.imread(img_path)\n",
    "        img2 = cv2.cvtColor(img2, cv2.COLOR_BGR2RGB)\n",
    "        vid.append(cv2.resize(img2, (112, 112)))\n",
    "\n",
    "        if len(vid) == 32:\n",
    "            X = np.array(vid, dtype=np.float32).transpose((2, 1, 0, 3))\n",
    "            output = model.predict_on_batch(np.array([X]))\n",
    "\n",
    "            if abnor == 3:\n",
    "                break\n",
    "\n",
    "            if len(output) > 0:\n",
    "                str1 = labels0[np.argmax(output)]\n",
    "                if str1 in ['vandalism', 'fighting', 'shooting', 'hockeyfight']:\n",
    "                    abnor += 1\n",
    "                else:\n",
    "                    abnor = 0\n",
    "\n",
    "            vid = []\n",
    "\n",
    "    if abnor == 3:\n",
    "        prediction.append('abnormal')\n",
    "    else:\n",
    "        prediction.append('normal')\n"
   ]
  },
  {
   "cell_type": "code",
   "execution_count": null,
   "id": "6bdcd568-1fc2-44fb-b91d-9a5e558fe4d2",
   "metadata": {},
   "outputs": [
    {
     "data": {
      "text/plain": [
       "16"
      ]
     },
     "execution_count": 33,
     "metadata": {},
     "output_type": "execute_result"
    }
   ],
   "source": [
    "len(prediction)"
   ]
  },
  {
   "cell_type": "code",
   "execution_count": null,
   "id": "bb8b914b-737c-4620-9198-07ea1f23e30d",
   "metadata": {},
   "outputs": [],
   "source": [
    "import seaborn as sns\n",
    "from sklearn.metrics import confusion_matrix"
   ]
  },
  {
   "cell_type": "code",
   "execution_count": null,
   "id": "2e8c4ca0-8729-444a-aa83-bc3ba6e39097",
   "metadata": {},
   "outputs": [
    {
     "name": "stdout",
     "output_type": "stream",
     "text": [
      "sample_images_RA/0Normal/1Fighting037_x264 normal normal\n",
      "sample_images_RA/0Normal/1Fighting038_x264 normal normal\n",
      "sample_images_RA/0Normal/1Fighting039_x264 normal normal\n",
      "sample_images_RA/0Normal/1Shooting002_x264 normal normal\n",
      "sample_images_RA/0Normal/1Shooting003_x264 normal normal\n",
      "sample_images_RA/0Normal/1Shooting004_x264 normal normal\n",
      "sample_images_RA/0Normal/1Vandalism019_x264 normal normal\n",
      "sample_images_RA/0Normal/1Vandalism020_x264 normal normal\n",
      "sample_images_RA/fighting/2Fighting015_x264 abnormal normal\n",
      "sample_images_RA/fighting/2Fighting016_x264 abnormal normal\n",
      "sample_images_RA/shooting/2Shooting038_x264 abnormal normal\n",
      "sample_images_RA/shooting/2Shooting053_x264 abnormal normal\n",
      "sample_images_RA/shooting/2Shooting054_x264 abnormal normal\n",
      "sample_images_RA/vandalism/2Vandalism036_x264 abnormal normal\n",
      "sample_images_RA/vandalism/2Vandalism037_x264 abnormal normal\n",
      "sample_images_RA/vandalism/2Vandalism038_x264 abnormal normal\n"
     ]
    }
   ],
   "source": [
    "j=0\n",
    "for i in Test_videos:\n",
    "    print(i, orignal[j], prediction[j])\n",
    "    j=j+1"
   ]
  },
  {
   "cell_type": "code",
   "execution_count": null,
   "id": "0a0f703e-4936-4ef1-a5fe-375a1b0f873c",
   "metadata": {},
   "outputs": [
    {
     "data": {
      "text/plain": [
       "<AxesSubplot:>"
      ]
     },
     "execution_count": 36,
     "metadata": {},
     "output_type": "execute_result"
    },
    {
     "data": {
      "image/png": "[encoded data removed]",
      "text/plain": [
       "<Figure size 640x480 with 1 Axes>"
      ]
     },
     "metadata": {},
     "output_type": "display_data"
    }
   ],
   "source": [
    "conf_mat = confusion_matrix(orignal, prediction)\n",
    "sns.heatmap(conf_mat, square=True, annot=True, cmap='Blues', fmt='d', cbar=False)"
   ]
  },
  {
   "cell_type": "code",
   "execution_count": null,
   "id": "25dad7dd-a8a4-4826-9c71-d20627c24fb4",
   "metadata": {},
   "outputs": [],
   "source": []
  },
  {
   "cell_type": "code",
   "execution_count": null,
   "id": "3fd06bf5-2a4f-4c5a-a910-bee48b508564",
   "metadata": {},
   "outputs": [],
   "source": []
  }
 ],
 "metadata": {
  "kernelspec": {
   "display_name": "Python 3 (ipykernel)",
   "language": "python",
   "name": "python3"
  },
  "language_info": {
   "codemirror_mode": {
    "name": "ipython",
    "version": 3
   },
   "file_extension": ".py",
   "mimetype": "text/x-python",
   "name": "python",
   "nbconvert_exporter": "python",
   "pygments_lexer": "ipython3",
   "version": "3.7.9"
  }
 },
 "nbformat": 4,
 "nbformat_minor": 5
}
