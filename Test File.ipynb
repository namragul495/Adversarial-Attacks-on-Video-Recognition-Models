{
 "cells": [
  {
   "cell_type": "code",
   "execution_count": 32,
   "id": "02d86371-1b38-414b-8bdc-409e2dea7aaa",
   "metadata": {},
   "outputs": [],
   "source": [
    "# import required libraries\n",
    "import cv2\n",
    "\n",
    "# Read the image on which we are going to apply watermark\n",
    "img = cv2.imread(\"img.jpg\")\n",
    "img = cv2.resize(img, (112, 112))\n",
    "# Read the watermark image\n",
    "wm = cv2.imread(\"patch 3.jpg\")\n",
    "wm = cv2.resize(wm, (25, 25))\n",
    "wm =cv2.cvtColor(wm, cv2.COLOR_BGR2RGB)\n",
    "roi = img[87:112, 87:112]\n",
    "result = cv2.addWeighted(roi, 1, wm, 1, 0)\n",
    "img[87:112, 87:112] = result\n"
   ]
  },
  {
   "cell_type": "code",
   "execution_count": null,
   "id": "5a9c814f-8480-497b-bb9f-42b5aaa70597",
   "metadata": {},
   "outputs": [],
   "source": []
  }
 ],
 "metadata": {
  "kernelspec": {
   "display_name": "Python 3 (ipykernel)",
   "language": "python",
   "name": "python3"
  },
  "language_info": {
   "codemirror_mode": {
    "name": "ipython",
    "version": 3
   },
   "file_extension": ".py",
   "mimetype": "text/x-python",
   "name": "python",
   "nbconvert_exporter": "python",
   "pygments_lexer": "ipython3",
   "version": "3.7.9"
  }
 },
 "nbformat": 4,
 "nbformat_minor": 5
}
