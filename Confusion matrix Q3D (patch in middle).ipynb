{
 "cells": [
  {
   "cell_type": "code",
   "execution_count": 13,
   "id": "999d2031-a2e9-43b4-bfb4-47018a1495f2",
   "metadata": {},
   "outputs": [],
   "source": [
    "# -*- coding:utf-8 -*-\n",
    "import tensorflow as tf\n",
    "from tensorflow import keras\n",
    "import numpy as np\n",
    "import random\n",
    "import cv2\n",
    "import os\n",
    "\n",
    "orignal =[]"
   ]
  },
  {
   "cell_type": "code",
   "execution_count": 14,
   "id": "3be5c30d-38a4-4a1c-b7ee-919f2ffefe18",
   "metadata": {},
   "outputs": [],
   "source": [
    "#Read all test videos\n",
    "test=[]\n",
    "f= 'sample_images_RA'\n",
    "Test_videos =[]\n",
    "test_list = open('Labels/test.txt','r')\n",
    "for line in test_list:\n",
    "    name = line.split(\" \")[0]\n",
    "    x=line.split(\" \")[-1]\n",
    "    test.append(x[0])\n",
    "    Test_videos.append(f+\"/\"+name)"
   ]
  },
  {
   "cell_type": "code",
   "execution_count": 15,
   "id": "7bd5e76e-36c8-4df1-ae53-edc11c52f762",
   "metadata": {},
   "outputs": [],
   "source": [
    "for i in test:\n",
    "    if i=='0':\n",
    "        orignal.append('normal')\n",
    "    else:\n",
    "        orignal.append('abnormal')"
   ]
  },
  {
   "cell_type": "code",
   "execution_count": 16,
   "id": "c7f6a471-4e68-46d8-917d-ad19e0352274",
   "metadata": {},
   "outputs": [],
   "source": [
    "#To load pre-trained model, trained on 5 classes \n",
    "#model = tf.keras.models.load_model('Trained Models/model_P3D.h5',compile=False)\n",
    "\n",
    "\n",
    "#To load pre-trained weights,\n",
    "model = tf.keras.models.load_model('Trained Models/weights_model_Q3D.hdf5',compile=False)"
   ]
  },
  {
   "cell_type": "code",
   "execution_count": 17,
   "id": "9e5225d1-9b25-4f00-b0b0-4cb667ac08c3",
   "metadata": {},
   "outputs": [],
   "source": [
    "#two classes labels\n",
    "labels0 ={0:'normal', 1:'abnormal'}\n",
    "prediction = []"
   ]
  },
  {
   "cell_type": "code",
   "execution_count": 25,
   "id": "4868d360-2e33-4708-95ef-6ed0eaea2f58",
   "metadata": {},
   "outputs": [],
   "source": [
    "#Read Patch image\n",
    "wm = cv2.imread(\"patch 3.jpg\")\n",
    "wm = cv2.resize(wm, (25, 25))\n",
    "wm =cv2.cvtColor(wm, cv2.COLOR_BGR2RGB)"
   ]
  },
  {
   "cell_type": "code",
   "execution_count": 27,
   "id": "9b5c5e02-4633-4f42-a487-d5916dea2ab4",
   "metadata": {},
   "outputs": [],
   "source": [
    "import os\n",
    "import cv2\n",
    "import numpy as np\n",
    "\n",
    "# Assuming you have defined 'Test_videos', 'wm', 'labels0', and 'model' elsewhere in your code\n",
    "\n",
    "prediction = []\n",
    "\n",
    "for video in Test_videos:\n",
    "    vid = []\n",
    "    nor = 0\n",
    "    abnor = 0\n",
    "    path = video\n",
    "    images = os.listdir(video)\n",
    "    \n",
    "    for img in images:\n",
    "        img_path = os.path.join(path, img)\n",
    "        img2 = cv2.imread(img_path)\n",
    "        img2 = cv2.cvtColor(img2, cv2.COLOR_BGR2RGB)\n",
    "        img2 = cv2.resize(img2, (112, 112))\n",
    "        \n",
    "        # Extracting the central 25x25 patch\n",
    "        middle_patch = img2[43:68, 43:68]  # Adjust the indices based on your image size\n",
    "        \n",
    "        result = cv2.addWeighted(middle_patch, 1, wm, 1, 0)\n",
    "        img2[43:68, 43:68] = result\n",
    "        vid.append(img2)\n",
    "    \n",
    "    vid = np.array(vid, dtype=np.float32)\n",
    "    length = len(vid)\n",
    "    \n",
    "    for i in range(0, len(vid), 32):\n",
    "        if abnor == 3:\n",
    "            break\n",
    "        if i + 32 <= length:\n",
    "            X = vid[i:i + 32].transpose((1, 2, 0, 3))\n",
    "            output = model.predict_on_batch(np.array([X]))\n",
    "            \n",
    "            if len(output) > 0:\n",
    "                str1 = labels0[np.argmax(output)]\n",
    "                \n",
    "                if str1 == 'abnormal':\n",
    "                    abnor += 1\n",
    "                else:\n",
    "                    abnor = 0\n",
    "    \n",
    "    vid = []\n",
    "    \n",
    "    if abnor == 3:\n",
    "        prediction.append('abnormal')\n",
    "    else:\n",
    "        prediction.append('normal')\n",
    "\n",
    "# Now 'prediction' contains the predictions for each video\n"
   ]
  },
  {
   "cell_type": "code",
   "execution_count": 27,
   "id": "9b0dee2d",
   "metadata": {},
   "outputs": [],
   "source": [
    "import os\n",
    "import cv2\n",
    "import numpy as np\n",
    "\n",
    "# Assuming you have defined 'Test_videos', 'wm', 'labels0', and 'model' elsewhere in your code\n",
    "\n",
    "prediction = []\n",
    "\n",
    "for video in Test_videos:\n",
    "    vid = []\n",
    "    nor = 0\n",
    "    abnor = 0\n",
    "    path = video\n",
    "    images = os.listdir(video)\n",
    "    \n",
    "    for img in images:\n",
    "        img_path = os.path.join(path, img)\n",
    "        img2 = cv2.imread(img_path)\n",
    "        img2 = cv2.cvtColor(img2, cv2.COLOR_BGR2RGB)\n",
    "        img2 = cv2.resize(img2, (112, 112))\n",
    "        \n",
    "        # Extracting the central 25x25 patch\n",
    "        middle_patch = img2[43:68, 43:68]  # Adjust the indices based on your image size\n",
    "        \n",
    "        result = cv2.addWeighted(middle_patch, 1, wm, 1, 0)\n",
    "        img2[43:68, 43:68] = result\n",
    "        vid.append(img2)\n",
    "    \n",
    "    vid = np.array(vid, dtype=np.float32)\n",
    "    length = len(vid)\n",
    "    \n",
    "    for i in range(0, len(vid), 32):\n",
    "        if abnor == 3:\n",
    "            break\n",
    "        if i + 32 <= length:\n",
    "            X = vid[i:i + 32].transpose((1, 2, 0, 3))\n",
    "            output = model.predict_on_batch(np.array([X]))\n",
    "            \n",
    "            if len(output) > 0:\n",
    "                str1 = labels0[np.argmax(output)]\n",
    "                \n",
    "                if str1 == 'abnormal':\n",
    "                    abnor += 1\n",
    "                else:\n",
    "                    abnor = 0\n",
    "    \n",
    "    vid = []\n",
    "    \n",
    "    if abnor == 3:\n",
    "        prediction.append('abnormal')\n",
    "    else:\n",
    "        prediction.append('normal')\n",
    "\n",
    "# Now 'prediction' contains the predictions for each video\n"
   ]
  },
  {
   "cell_type": "code",
   "execution_count": 28,
   "id": "bfa9141f-755d-424f-a611-d1fa7d260253",
   "metadata": {},
   "outputs": [
    {
     "data": {
      "text/plain": [
       "16"
      ]
     },
     "execution_count": 28,
     "metadata": {},
     "output_type": "execute_result"
    }
   ],
   "source": [
    "len(prediction)"
   ]
  },
  {
   "cell_type": "code",
   "execution_count": 29,
   "id": "33efa50d-2140-4b57-90bb-cdfa786ed0df",
   "metadata": {},
   "outputs": [],
   "source": [
    "import seaborn as sns\n",
    "from sklearn.metrics import confusion_matrix"
   ]
  },
  {
   "cell_type": "code",
   "execution_count": 30,
   "id": "7799054c-440a-4f5a-8997-200c830f83ab",
   "metadata": {},
   "outputs": [
    {
     "name": "stdout",
     "output_type": "stream",
     "text": [
      "sample_images_RA/0Normal/1Fighting037_x264 normal abnormal\n",
      "sample_images_RA/0Normal/1Fighting038_x264 normal normal\n",
      "sample_images_RA/0Normal/1Fighting039_x264 normal abnormal\n",
      "sample_images_RA/0Normal/1Shooting002_x264 normal abnormal\n",
      "sample_images_RA/0Normal/1Shooting003_x264 normal abnormal\n",
      "sample_images_RA/0Normal/1Shooting004_x264 normal abnormal\n",
      "sample_images_RA/0Normal/1Vandalism019_x264 normal abnormal\n",
      "sample_images_RA/0Normal/1Vandalism020_x264 normal abnormal\n",
      "sample_images_RA/fighting/2Fighting015_x264 abnormal abnormal\n",
      "sample_images_RA/fighting/2Fighting016_x264 abnormal abnormal\n",
      "sample_images_RA/shooting/2Shooting038_x264 abnormal abnormal\n",
      "sample_images_RA/shooting/2Shooting053_x264 abnormal abnormal\n",
      "sample_images_RA/shooting/2Shooting054_x264 abnormal abnormal\n",
      "sample_images_RA/vandalism/2Vandalism036_x264 abnormal abnormal\n",
      "sample_images_RA/vandalism/2Vandalism037_x264 abnormal abnormal\n",
      "sample_images_RA/vandalism/2Vandalism038_x264 abnormal abnormal\n"
     ]
    }
   ],
   "source": [
    "j=0\n",
    "for i in Test_videos:\n",
    "    print(i, orignal[j], prediction[j])\n",
    "    j=j+1"
   ]
  },
  {
   "cell_type": "code",
   "execution_count": 31,
   "id": "cd5a702b-d553-4238-85b1-3099ee128cc3",
   "metadata": {},
   "outputs": [
    {
     "data": {
      "text/plain": [
       "<AxesSubplot:>"
      ]
     },
     "execution_count": 31,
     "metadata": {},
     "output_type": "execute_result"
    },
    {
     "data": {
      "image/png": "[encoded data removed]",
      "text/plain": [
       "<Figure size 640x480 with 1 Axes>"
      ]
     },
     "metadata": {},
     "output_type": "display_data"
    }
   ],
   "source": [
    "conf_mat = confusion_matrix(orignal, prediction)\n",
    "sns.heatmap(conf_mat, square=True, annot=True, cmap='Blues', fmt='d', cbar=False)"
   ]
  },
  {
   "cell_type": "code",
   "execution_count": null,
   "id": "c2201870-6944-487a-b10d-733ff1b78066",
   "metadata": {},
   "outputs": [],
   "source": []
  }
 ],
 "metadata": {
  "kernelspec": {
   "display_name": "Python 3 (ipykernel)",
   "language": "python",
   "name": "python3"
  },
  "language_info": {
   "codemirror_mode": {
    "name": "ipython",
    "version": 3
   },
   "file_extension": ".py",
   "mimetype": "text/x-python",
   "name": "python",
   "nbconvert_exporter": "python",
   "pygments_lexer": "ipython3",
   "version": "3.7.9"
  }
 },
 "nbformat": 4,
 "nbformat_minor": 5
}
