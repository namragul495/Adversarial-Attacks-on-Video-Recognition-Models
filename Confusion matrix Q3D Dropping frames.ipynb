{
 "cells": [
  {
   "cell_type": "code",
   "execution_count": 17,
   "id": "7fead2ff-1351-48c9-a58d-6c82b4eac614",
   "metadata": {},
   "outputs": [],
   "source": [
    "# -*- coding:utf-8 -*-\n",
    "import tensorflow as tf\n",
    "from tensorflow import keras\n",
    "import numpy as np\n",
    "import random\n",
    "import cv2\n",
    "import os\n",
    "\n",
    "orignal =[]\n"
   ]
  },
  {
   "cell_type": "code",
   "execution_count": 18,
   "id": "410476ef-d95f-451e-bddb-7f80a9ae8912",
   "metadata": {},
   "outputs": [],
   "source": [
    "#Read all test videos\n",
    "test=[]\n",
    "f= 'sample_images_RA'\n",
    "Test_videos =[]\n",
    "test_list = open('Labels/test.txt','r')\n",
    "for line in test_list:\n",
    "    name = line.split(\" \")[0]\n",
    "    x=line.split(\" \")[-1]\n",
    "    test.append(x[0])\n",
    "    Test_videos.append(f+\"/\"+name)\n",
    "    "
   ]
  },
  {
   "cell_type": "code",
   "execution_count": 19,
   "id": "3cca0091-8c90-41a6-a670-6de1035a6d18",
   "metadata": {},
   "outputs": [],
   "source": [
    "for i in test:\n",
    "    if i=='0':\n",
    "        orignal.append('normal')\n",
    "    else:\n",
    "        orignal.append('abnormal')"
   ]
  },
  {
   "cell_type": "code",
   "execution_count": 20,
   "id": "3028e5ac-c751-411f-97dc-1dc4a10dda92",
   "metadata": {},
   "outputs": [],
   "source": [
    "#To load pre-trained model, trained on 5 classes \n",
    "#model = tf.keras.models.load_model('Trained Models/model_Q3D.h5',compile=False)\n",
    "#model.summary()\n",
    "\n",
    "#To load pre-trained weeights,\n",
    "model = tf.keras.models.load_model('Trained Models/weights_model_Q3D.hdf5',compile=False)"
   ]
  },
  {
   "cell_type": "code",
   "execution_count": 21,
   "id": "e9a35c28-4fab-4580-9d29-f4cc185b9aef",
   "metadata": {},
   "outputs": [],
   "source": [
    "#two classes labesl\n",
    "labels0 ={0:'normal', 1:'abnormal'}\n",
    "prediction = []"
   ]
  },
  {
   "cell_type": "code",
   "execution_count": 22,
   "id": "1a13339e-ca74-4101-8218-aa58f06aefda",
   "metadata": {},
   "outputs": [],
   "source": [
    "for video in Test_videos:\n",
    "    vid = []  # reads frames of videos\n",
    "    abnor = 0  # initialize abnormal count with 0\n",
    "    path = video\n",
    "    images = os.listdir(path)\n",
    "\n",
    "    # Define frame drop rate\n",
    "    frame_drop_rate = 3  # For example, drop every 2nd frame\n",
    "\n",
    "    for idx, img in enumerate(images):\n",
    "        if idx % frame_drop_rate == 0:  # Skip frames based on frame_drop_rate\n",
    "            continue\n",
    "\n",
    "        img_path = os.path.join(path, img)\n",
    "        img2 = cv2.imread(img_path)\n",
    "        img2 = cv2.cvtColor(img2, cv2.COLOR_BGR2RGB)\n",
    "        vid.append(cv2.resize(img2, (112, 112)))\n",
    "\n",
    "        if len(vid) == 32:\n",
    "            X = np.array(vid, dtype=np.float32).transpose((2, 1, 0, 3))\n",
    "            output = model.predict_on_batch(np.array([X]))\n",
    "\n",
    "            if abnor == 3:\n",
    "                break\n",
    "\n",
    "            if len(output) > 0:\n",
    "                str1 = labels0[np.argmax(output)]\n",
    "                if str1 in ['vandalism', 'fighting', 'shooting', 'hockeyfight']:\n",
    "                    abnor += 1\n",
    "                else:\n",
    "                    abnor = 0\n",
    "\n",
    "            vid = []\n",
    "\n",
    "    if abnor == 3:\n",
    "        prediction.append('abnormal')\n",
    "    else:\n",
    "        prediction.append('normal')"
   ]
  },
  {
   "cell_type": "code",
   "execution_count": 23,
   "id": "d80c6b26-7769-459d-acd2-1199c0739ad9",
   "metadata": {},
   "outputs": [
    {
     "data": {
      "text/plain": [
       "16"
      ]
     },
     "execution_count": 23,
     "metadata": {},
     "output_type": "execute_result"
    }
   ],
   "source": [
    "len(prediction)"
   ]
  },
  {
   "cell_type": "code",
   "execution_count": 24,
   "id": "553171e3-bf49-4658-8430-c466ceacc631",
   "metadata": {},
   "outputs": [
    {
     "data": {
      "text/plain": [
       "<AxesSubplot:>"
      ]
     },
     "execution_count": 24,
     "metadata": {},
     "output_type": "execute_result"
    },
    {
     "data": {
      "image/png": "[encoded data removed]",
      "text/plain": [
       "<Figure size 640x480 with 1 Axes>"
      ]
     },
     "metadata": {},
     "output_type": "display_data"
    }
   ],
   "source": [
    "import seaborn as sns\n",
    "from sklearn.metrics import confusion_matrix\n",
    "conf_mat = confusion_matrix(orignal, prediction)\n",
    "sns.heatmap(conf_mat, square=True, annot=True, cmap='Blues', fmt='d', cbar=False)"
   ]
  },
  {
   "cell_type": "code",
   "execution_count": null,
   "id": "0f26edd4-d551-46ea-b5eb-5088eb5667fa",
   "metadata": {},
   "outputs": [],
   "source": []
  }
 ],
 "metadata": {
  "kernelspec": {
   "display_name": "Python 3 (ipykernel)",
   "language": "python",
   "name": "python3"
  },
  "language_info": {
   "codemirror_mode": {
    "name": "ipython",
    "version": 3
   },
   "file_extension": ".py",
   "mimetype": "text/x-python",
   "name": "python",
   "nbconvert_exporter": "python",
   "pygments_lexer": "ipython3",
   "version": "3.7.9"
  }
 },
 "nbformat": 4,
 "nbformat_minor": 5
}
