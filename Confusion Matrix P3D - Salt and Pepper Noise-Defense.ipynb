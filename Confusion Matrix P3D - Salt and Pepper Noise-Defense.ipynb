{
 "cells": [
  {
   "cell_type": "code",
   "execution_count": 56,
   "id": "5133d9ec-1b81-4589-b19f-f26effc165c3",
   "metadata": {},
   "outputs": [],
   "source": [
    "# -*- coding:utf-8 -*-\n",
    "import tensorflow as tf\n",
    "from tensorflow import keras\n",
    "import numpy as np\n",
    "import random\n",
    "import cv2\n",
    "import os\n",
    "\n",
    "orignal =[]\n"
   ]
  },
  {
   "cell_type": "code",
   "execution_count": 57,
   "id": "b5dc95e3-1d01-4802-aae9-67cd1d5c3710",
   "metadata": {},
   "outputs": [],
   "source": [
    "#Read all test videos\n",
    "test=[]\n",
    "f= 'sample_images_RA'\n",
    "Test_videos =[]\n",
    "test_list = open('Labels/test.txt','r')\n",
    "for line in test_list:\n",
    "    name = line.split(\" \")[0]\n",
    "    x=line.split(\" \")[-1]\n",
    "    test.append(x[0])\n",
    "    Test_videos.append(f+\"/\"+name)\n",
    "    "
   ]
  },
  {
   "cell_type": "code",
   "execution_count": 58,
   "id": "8d979bd6-a028-446f-8064-38311c43203a",
   "metadata": {},
   "outputs": [],
   "source": [
    "for i in test:\n",
    "    if i=='0':\n",
    "        orignal.append('normal')\n",
    "    else:\n",
    "        orignal.append('abnormal')"
   ]
  },
  {
   "cell_type": "code",
   "execution_count": 59,
   "id": "a91d574e-85c1-4c8c-a278-8f62d415aa35",
   "metadata": {},
   "outputs": [],
   "source": [
    "#To load pre-trained model, trained on 5 classes \n",
    "#model = tf.keras.models.load_model('Trained Models/model_P3D.h5',compile=False)\n",
    "\n",
    "\n",
    "#To load pre-trained weights,\n",
    "model = tf.keras.models.load_model('Trained Models/weights_model_P3D.hdf5',compile=False)"
   ]
  },
  {
   "cell_type": "code",
   "execution_count": 60,
   "id": "8041b922-4f68-4679-b123-558095e05419",
   "metadata": {},
   "outputs": [],
   "source": [
    "#two classes labels\n",
    "labels0 ={0:'normal', 1:'abnormal'}\n",
    "prediction = []"
   ]
  },
  {
   "cell_type": "code",
   "execution_count": 61,
   "id": "1a5a64dc-b999-4fce-b67f-b6d552f01119",
   "metadata": {},
   "outputs": [],
   "source": [
    "def add_salt_and_pepper_noise(frame, salt_prob=0.1, pepper_prob=1):\n",
    "    noisy_frame = frame.copy()\n",
    "    total_pixels = frame.size\n",
    "    num_salt = int(total_pixels * salt_prob)\n",
    "    num_pepper = int(total_pixels * pepper_prob)\n",
    "\n",
    "    # Add Salt noise\n",
    "    coords = [np.random.randint(0, i - 1, num_salt) for i in frame.shape]\n",
    "    noisy_frame[coords[0], coords[1], :] = 255\n",
    "\n",
    "    # Add Pepper noise\n",
    "    coords = [np.random.randint(0, i - 1, num_pepper) for i in frame.shape]\n",
    "    noisy_frame[coords[0], coords[1], :] = 0\n",
    "\n",
    "    return noisy_frame\n"
   ]
  },
  {
   "cell_type": "code",
   "execution_count": 62,
   "id": "309bc6b3-8e85-4aa0-b7e8-321b1de6fe9f",
   "metadata": {},
   "outputs": [],
   "source": [
    "def median_filtering(image, kernel_size=3):\n",
    "    return cv2.medianBlur(image, kernel_size)"
   ]
  },
  {
   "cell_type": "code",
   "execution_count": null,
   "id": "122c2f74-d959-4813-99a8-25ebaf83ddfb",
   "metadata": {},
   "outputs": [],
   "source": [
    "#Code for Confusion Matrix\n",
    "for video in Test_videos:\n",
    "    vid = []\n",
    "    nor=0\n",
    "    abnor=0\n",
    "    path=video\n",
    "    images = os.listdir(video)\n",
    "    for img in images:\n",
    "        img_path=path +\"/\"+img\n",
    "        img2 = cv2.imread(img_path)\n",
    "        img2 = add_salt_and_pepper_noise(img2, salt_prob=0.1, pepper_prob=1)\n",
    "        img2 = median_filtering(img2)\n",
    "        img2= cv2.cvtColor(img2, cv2.COLOR_BGR2RGB)\n",
    "        vid.append(cv2.resize(img2, (112, 112)))\n",
    "    vid = np.array(vid, dtype=np.float32)\n",
    "    length =len(vid)\n",
    "    for i in range(0,len(vid),32):\n",
    "        if abnor==3:\n",
    "            break\n",
    "        if i+32<=length:\n",
    "            X = vid[i:i+32].transpose((1,2,0,3))\n",
    "            output = model.predict_on_batch(np.array([X]))\n",
    "            if(len(output)>0):\n",
    "                str1=labels0[np.argmax(output)]\n",
    "                if str1=='abnormal':\n",
    "                    abnor=abnor+1\n",
    "                else:\n",
    "                    abnor=0\n",
    "    \n",
    "    vid=[]\n",
    "    if abnor==3:\n",
    "        prediction.append('abnormal')\n",
    "    else:\n",
    "        prediction.append('normal')"
   ]
  },
  {
   "cell_type": "code",
   "execution_count": null,
   "id": "ac417140-57b5-4912-b7f2-4ed8dc2dc7c9",
   "metadata": {},
   "outputs": [],
   "source": [
    "import seaborn as sns\n",
    "from sklearn.metrics import confusion_matrix"
   ]
  },
  {
   "cell_type": "code",
   "execution_count": null,
   "id": "2b6409c1-d790-409d-9c1a-2891f7176a3b",
   "metadata": {},
   "outputs": [],
   "source": [
    "j=0\n",
    "for i in Test_videos:\n",
    "    print(i, orignal[j], prediction[j])\n",
    "    j=j+1"
   ]
  },
  {
   "cell_type": "code",
   "execution_count": null,
   "id": "90bc2501-b25c-49a5-a788-1be31177c0c9",
   "metadata": {},
   "outputs": [],
   "source": [
    "\n",
    "conf_mat = confusion_matrix(orignal, prediction)\n",
    "sns.heatmap(conf_mat, square=True, annot=True, cmap='Blues', fmt='d', cbar=False)"
   ]
  },
  {
   "cell_type": "code",
   "execution_count": null,
   "id": "f9686280-7e02-440d-b05d-076891810bbf",
   "metadata": {},
   "outputs": [],
   "source": []
  }
 ],
 "metadata": {
  "kernelspec": {
   "display_name": "Python 3 (ipykernel)",
   "language": "python",
   "name": "python3"
  },
  "language_info": {
   "codemirror_mode": {
    "name": "ipython",
    "version": 3
   },
   "file_extension": ".py",
   "mimetype": "text/x-python",
   "name": "python",
   "nbconvert_exporter": "python",
   "pygments_lexer": "ipython3",
   "version": "3.7.9"
  }
 },
 "nbformat": 4,
 "nbformat_minor": 5
}
