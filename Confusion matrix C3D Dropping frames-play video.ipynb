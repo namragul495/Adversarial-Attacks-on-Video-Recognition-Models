{
 "cells": [
  {
   "cell_type": "code",
   "execution_count": 1,
   "id": "a2748bf3-e100-405a-b035-1f3600bd4790",
   "metadata": {},
   "outputs": [],
   "source": [
    "# -*- coding:utf-8 -*-\n",
    "import tensorflow as tf\n",
    "from tensorflow import keras\n",
    "import numpy as np\n",
    "import random\n",
    "import cv2\n",
    "import os\n",
    "\n",
    "orignal =[] #Blank array. But later on add normal and abnormal to it. original has all the labels we got during training.\n"
   ]
  },
  {
   "cell_type": "code",
   "execution_count": 2,
   "id": "77c40274-deb0-47f2-b562-f82de24302f7",
   "metadata": {},
   "outputs": [],
   "source": [
    "#Read all test videos\n",
    "test=[] #It contains all labels (0 and 1). Length is 85 \n",
    "test_list2=[]\n",
    "f= 'sample_images_RA'\n",
    "Test_videos =[]  #This array contains path of all videos.Length is 85\n",
    "test_list = open('Labels/test.txt','r') # path and labels info \n",
    "for line in test_list:\n",
    "    name = line.split(\" \")[0]  \n",
    "    test_list2.append(line)\n",
    "    x=line.split(\" \")[-1]\n",
    "    test.append(x[0])\n",
    "    Test_videos.append(f+\"/\"+name) #Full path of all videos\n",
    "    "
   ]
  },
  {
   "cell_type": "code",
   "execution_count": 3,
   "id": "a7321177-d72a-46f2-a6de-6688a0d451f3",
   "metadata": {},
   "outputs": [],
   "source": [
    "for i in test: \n",
    "    if i=='0':\n",
    "        orignal.append('normal')\n",
    "    else:\n",
    "        orignal.append('abnormal')"
   ]
  },
  {
   "cell_type": "code",
   "execution_count": 4,
   "id": "9ea72898-c216-47f1-89cb-2073809978a6",
   "metadata": {},
   "outputs": [],
   "source": [
    "#To load pre-trained model, trained on 5 classes \n",
    "#model = tf.keras.models.load_model('Trained models/model_c3d.h5',compile=False)\n",
    "#model.summary()\n",
    "\n",
    "\n",
    "#To load pre-trained weeights,\n",
    "model = tf.keras.models.load_model('Trained Models/weights_model_C3D.hdf5',compile=False)\n"
   ]
  },
  {
   "cell_type": "code",
   "execution_count": 5,
   "id": "1e5e2e87-1388-4814-ae5e-752726df35cd",
   "metadata": {},
   "outputs": [],
   "source": [
    "#Five class labels\n",
    "labels1 = {0: 'fighting', 1: 'vandalism',2: '0normal',3: 'shooting',4: 'hockeyfight'}\n",
    "prediction = [] #Labels you get after testing"
   ]
  },
  {
   "cell_type": "code",
   "execution_count": 6,
   "id": "c09a8297-03b9-4a96-ad87-e6fc1a98905c",
   "metadata": {},
   "outputs": [],
   "source": [
    "def play_video(frames, frame_rate=5):\n",
    "    \"\"\"\n",
    "    Play a sequence of frames as a video.\n",
    "\n",
    "    Parameters:\n",
    "    - frames: List of frames (numpy arrays representing images).\n",
    "    - frame_rate: Frames per second (default is 25).\n",
    "    \"\"\"\n",
    "    if not frames:\n",
    "        print(\"No frames to play.\")\n",
    "        return\n",
    "\n",
    "    # Get the height and width from the first frame\n",
    "    height, width, _ = frames[0].shape\n",
    "    size = (width, height)\n",
    "\n",
    "    # Create a VideoWriter object to save the video\n",
    "    video_writer = cv2.VideoWriter('output_video.avi', cv2.VideoWriter_fourcc(*'DIVX'), frame_rate, size)\n",
    "\n",
    "    # Display each frame and write it to the video file\n",
    "    for frame in frames:\n",
    "        cv2.imshow('Video Player', frame)\n",
    "        video_writer.write(frame)\n",
    "\n",
    "        # Break the loop if the 'q' key is pressed\n",
    "        if cv2.waitKey(1) & 0xFF == ord('q'):\n",
    "            break\n",
    "\n",
    "    # Release the VideoWriter and close the OpenCV window\n",
    "    video_writer.release()\n",
    "    cv2.destroyAllWindows()"
   ]
  },
  {
   "cell_type": "code",
   "execution_count": 8,
   "id": "d12df8d2-5422-477a-9bcc-6b567c7491f3",
   "metadata": {},
   "outputs": [],
   "source": [
    "all_videos =[]\n",
    "for video in Test_videos:\n",
    "    vid = []  # reads frames of videos\n",
    "    abnor = 0  # initialize abnormal count with 0\n",
    "    path = video\n",
    "    images = os.listdir(path)\n",
    "\n",
    "    # Define frame drop rate\n",
    "    frame_drop_rate = 3  # For example, drop every 2nd frame\n",
    "\n",
    "    for idx, img in enumerate(images):\n",
    "        if idx % frame_drop_rate == 0:  # Skip frames based on frame_drop_rate\n",
    "            continue\n",
    "\n",
    "        img_path = os.path.join(path, img)\n",
    "        img2 = cv2.imread(img_path)\n",
    "        img2 = cv2.cvtColor(img2, cv2.COLOR_BGR2RGB)\n",
    "        vid.append(cv2.resize(img2, (112, 112)))\n",
    "\n",
    "    all_videos.append(vid)\n"
   ]
  },
  {
   "cell_type": "code",
   "execution_count": 9,
   "id": "e7572dd8-4928-4b16-aff4-4aef713b9fd7",
   "metadata": {},
   "outputs": [],
   "source": [
    "play_video(all_videos[0])"
   ]
  },
  {
   "cell_type": "code",
   "execution_count": null,
   "id": "e273492f-3a15-4de9-8af2-09847a67b71f",
   "metadata": {},
   "outputs": [],
   "source": []
  }
 ],
 "metadata": {
  "kernelspec": {
   "display_name": "Python 3 (ipykernel)",
   "language": "python",
   "name": "python3"
  },
  "language_info": {
   "codemirror_mode": {
    "name": "ipython",
    "version": 3
   },
   "file_extension": ".py",
   "mimetype": "text/x-python",
   "name": "python",
   "nbconvert_exporter": "python",
   "pygments_lexer": "ipython3",
   "version": "3.7.9"
  }
 },
 "nbformat": 4,
 "nbformat_minor": 5
}
