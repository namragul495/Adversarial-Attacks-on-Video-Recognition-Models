{
 "cells": [
  {
   "cell_type": "code",
   "execution_count": 1,
   "id": "597c3e5e-357c-4ae7-9b5c-54d33d0362c2",
   "metadata": {},
   "outputs": [],
   "source": [
    "# -*- coding:utf-8 -*-\n",
    "import tensorflow as tf\n",
    "from tensorflow import keras\n",
    "import numpy as np\n",
    "import random\n",
    "import cv2\n",
    "import os\n",
    "\n",
    "orignal =[]\n",
    "prediction = []"
   ]
  },
  {
   "cell_type": "code",
   "execution_count": 2,
   "id": "9a0ff77d-fb55-4ca7-8fba-dfc7cdf3c1ec",
   "metadata": {},
   "outputs": [],
   "source": [
    "#Read all test videos\n",
    "f= 'sample_images_RA'\n",
    "Test_videos =[]\n",
    "test_list = open('Labels/test.txt','r')\n",
    "for line in test_list:\n",
    "    name = line.split(\" \")[0]\n",
    "    orignal.append(line.split(\" \")[-1])\n",
    "    Test_videos.append(f+\"/\"+name)\n",
    "    "
   ]
  },
  {
   "cell_type": "code",
   "execution_count": 3,
   "id": "43ac6581-7f1f-4a05-8151-944e2ae3ba58",
   "metadata": {},
   "outputs": [],
   "source": [
    "#To load pre-trained model, trained on 5 classes \n",
    "model = tf.keras.models.load_model('trained Models/model_C3D.h5',compile=False)\n",
    "#model.summary()\n"
   ]
  },
  {
   "cell_type": "code",
   "execution_count": 29,
   "id": "2d01d47d-d392-487c-a874-56de4a3b6aea",
   "metadata": {},
   "outputs": [],
   "source": [
    "#Five class labels\n",
    "labels1 = {0: 'fighting', 1: 'vandalism',2: '0normal',3: 'shooting',4: 'hockeyfight'}\n",
    "\n",
    "#two classes labesl\n",
    "labels0 ={0:'normal', 1:'abnormal'}"
   ]
  },
  {
   "cell_type": "code",
   "execution_count": 26,
   "id": "65286c2d-27fb-448c-979d-5df6f1e72342",
   "metadata": {},
   "outputs": [
    {
     "data": {
      "text/plain": [
       "'sample_images_RA/vandalism/2Vandalism044_x264'"
      ]
     },
     "execution_count": 26,
     "metadata": {},
     "output_type": "execute_result"
    }
   ],
   "source": [
    "#0normal videos from 0 to 39\n",
    "#fighting videos from 40 to 54\n",
    "#shooting videos from 55 to 69\n",
    "#vandalism videos from 70 to 84\n",
    "path =Test_videos[78]\n",
    "path"
   ]
  },
  {
   "cell_type": "code",
   "execution_count": 27,
   "id": "7c637cfd-ccce-4fad-8d1e-8efe9b159f59",
   "metadata": {},
   "outputs": [],
   "source": [
    "images = os.listdir(path)\n",
    "vid = []\n",
    "for img in images:\n",
    "    img_path=path +\"/\"+img\n",
    "    img2 = cv2.imread(img_path)\n",
    "    img2= cv2.cvtColor(img2, cv2.COLOR_BGR2RGB)\n",
    "    vid.append(cv2.resize(img2, (112, 112)))\n",
    "vid = np.array(vid, dtype=np.float32)\n"
   ]
  },
  {
   "cell_type": "code",
   "execution_count": 28,
   "id": "059043a5-57d3-4bdd-928e-885e5d587c81",
   "metadata": {},
   "outputs": [
    {
     "name": "stdout",
     "output_type": "stream",
     "text": [
      "[[9.8741849e-16 9.8198688e-01 0.0000000e+00 1.8013181e-02 0.0000000e+00]] fighting\n",
      "[[0. 1. 0. 0. 0.]] fighting\n",
      "[[0. 1. 0. 0. 0.]] fighting\n",
      "[[0. 1. 0. 0. 0.]] fighting\n",
      "[[0. 1. 0. 0. 0.]] fighting\n",
      "[[0. 1. 0. 0. 0.]] fighting\n",
      "[[0. 1. 0. 0. 0.]] fighting\n",
      "[[0. 1. 0. 0. 0.]] fighting\n",
      "[[0.0000000e+00 3.8270486e-16 0.0000000e+00 1.0000000e+00 0.0000000e+00]] shooting\n",
      "[[0.0000000e+00 4.5806243e-30 0.0000000e+00 1.0000000e+00 0.0000000e+00]] shooting\n",
      "[[0.        0.2087051 0.        0.7912949 0.       ]] shooting\n",
      "[[0.000000e+00 1.104377e-07 0.000000e+00 9.999999e-01 0.000000e+00]] shooting\n",
      "[[0.000000e+00 4.669215e-11 0.000000e+00 1.000000e+00 0.000000e+00]] shooting\n",
      "[[0.0000000e+00 1.0000000e+00 0.0000000e+00 3.7782827e-37 0.0000000e+00]] fighting\n",
      "[[7.5737857e-29 1.0000000e+00 8.1850905e-22 0.0000000e+00 0.0000000e+00]] fighting\n",
      "[[0. 1. 0. 0. 0.]] fighting\n",
      "[[0. 1. 0. 0. 0.]] fighting\n",
      "[[0. 0. 1. 0. 0.]] 0normal\n",
      "[[0. 0. 1. 0. 0.]] 0normal\n",
      "[[0. 0. 1. 0. 0.]] 0normal\n",
      "[[0. 0. 1. 0. 0.]] 0normal\n",
      "[[0. 0. 1. 0. 0.]] 0normal\n",
      "[[0. 0. 1. 0. 0.]] 0normal\n",
      "[[0. 1. 0. 0. 0.]] fighting\n",
      "[[0. 1. 0. 0. 0.]] fighting\n",
      "[[0. 1. 0. 0. 0.]] fighting\n",
      "[[0.0000000e+00 1.0000000e+00 0.0000000e+00 3.2566262e-13 0.0000000e+00]] fighting\n",
      "[[0.000000e+00 1.000000e+00 0.000000e+00 9.819053e-30 0.000000e+00]] fighting\n",
      "[[0.0000000e+00 1.0000000e+00 0.0000000e+00 6.7837716e-27 0.0000000e+00]] fighting\n",
      "[[0.0000000e+00 1.0000000e+00 0.0000000e+00 1.8647746e-19 0.0000000e+00]] fighting\n",
      "[[0.000000e+00 1.000000e+00 0.000000e+00 1.967535e-21 0.000000e+00]] fighting\n",
      "[[0.000000e+00 1.000000e+00 0.000000e+00 8.348136e-18 0.000000e+00]] fighting\n",
      "[[0.0000000e+00 1.0000000e+00 0.0000000e+00 3.4883906e-20 0.0000000e+00]] fighting\n",
      "[[0.0000000e+00 1.0000000e+00 0.0000000e+00 1.5892516e-25 0.0000000e+00]] fighting\n",
      "[[0.000000e+00 1.000000e+00 0.000000e+00 5.675824e-26 0.000000e+00]] fighting\n",
      "[[0.0000000e+00 1.0000000e+00 0.0000000e+00 3.2409243e-28 0.0000000e+00]] fighting\n",
      "[[0.000000e+00 1.000000e+00 0.000000e+00 5.388695e-30 0.000000e+00]] fighting\n",
      "[[0.0000000e+00 1.0000000e+00 0.0000000e+00 5.3794693e-24 0.0000000e+00]] fighting\n",
      "[[0.000000e+00 2.309476e-23 0.000000e+00 1.000000e+00 0.000000e+00]] shooting\n",
      "[[0.0000000e+00 9.9999809e-01 0.0000000e+00 1.8491919e-06 0.0000000e+00]] fighting\n",
      "[[0.0000000e+00 9.9980730e-01 0.0000000e+00 1.9267929e-04 0.0000000e+00]] fighting\n",
      "[[0.0000000e+00 9.9997675e-01 0.0000000e+00 2.3262963e-05 0.0000000e+00]] fighting\n",
      "[[0.         0.19733085 0.         0.80266917 0.        ]] shooting\n",
      "[[0.0000000e+00 9.9966645e-01 0.0000000e+00 3.3351872e-04 0.0000000e+00]] fighting\n",
      "[[0.0000000e+00 9.9913859e-01 0.0000000e+00 8.6138555e-04 0.0000000e+00]] fighting\n",
      "[[0.0000000e+00 9.9999928e-01 0.0000000e+00 6.9228093e-07 0.0000000e+00]] fighting\n",
      "[[0.         0.30873707 0.         0.69126296 0.        ]] shooting\n",
      "[[0.0000000e+00 9.9994361e-01 0.0000000e+00 5.6363613e-05 0.0000000e+00]] fighting\n",
      "[[0.         0.8753997  0.         0.12460029 0.        ]] fighting\n",
      "[[0.0000000e+00 1.0000000e+00 0.0000000e+00 3.5982914e-10 0.0000000e+00]] fighting\n",
      "[[0.         0.98472035 0.         0.0152797  0.        ]] fighting\n",
      "[[0.0000000e+00 9.9999309e-01 0.0000000e+00 6.9123994e-06 0.0000000e+00]] fighting\n",
      "[[0.         0.         0.06563712 0.9343629  0.        ]] shooting\n",
      "[[0.         0.         0.06510757 0.93489236 0.        ]] shooting\n",
      "[[0.         0.         0.04451638 0.9554836  0.        ]] shooting\n",
      "[[0.0000000e+00 1.0322744e-31 1.0000000e+00 3.0414636e-08 0.0000000e+00]] 0normal\n",
      "[[0.0000000e+00 0.0000000e+00 1.0000000e+00 2.4362414e-09 0.0000000e+00]] 0normal\n",
      "[[0.0000000e+00 5.5212622e-38 1.0000000e+00 1.5453825e-09 0.0000000e+00]] 0normal\n",
      "[[0.000000e+00 0.000000e+00 1.000000e+00 1.554459e-08 0.000000e+00]] 0normal\n",
      "[[0.0000000e+00 0.0000000e+00 1.0000000e+00 3.4833857e-08 0.0000000e+00]] 0normal\n",
      "[[0.        0.        0.4402662 0.5597338 0.       ]] shooting\n",
      "[[0.         0.         0.80095845 0.19904149 0.        ]] 0normal\n",
      "[[0.         0.         0.00405911 0.9959409  0.        ]] shooting\n",
      "[[0.         0.         0.6750052  0.32499477 0.        ]] 0normal\n",
      "[[0.         0.         0.00763246 0.99236757 0.        ]] shooting\n",
      "[[0.        0.        0.9984629 0.0015371 0.       ]] 0normal\n",
      "[[0.         0.         0.99184203 0.00815804 0.        ]] 0normal\n",
      "[[0.         0.         0.9852101  0.01478985 0.        ]] 0normal\n",
      "[[0.         0.         0.98203665 0.01796332 0.        ]] 0normal\n",
      "[[1.4508270e-16 9.5501345e-14 1.2099770e-02 9.8790026e-01 1.8374664e-27]] shooting\n"
     ]
    }
   ],
   "source": [
    "result=[]\n",
    "result_prob=[]\n",
    "for i in range(0,len(vid),32):\n",
    "    X = vid[i:i+32].transpose((2,1,0,3))\n",
    "    output = model.predict_on_batch(np.array([X]))\n",
    "    result_prob.append(output)\n",
    "    str1=labels1[np.argmax(output)]\n",
    "    print(output,str1)\n",
    "    if str1=='vandalism' or str1 == 'fighting' or str1=='shooting' or str1=='hockeyfight':\n",
    "        result.append(labels0[1])\n",
    "    else:\n",
    "        result.append(labels0[0])"
   ]
  },
  {
   "cell_type": "code",
   "execution_count": 10,
   "id": "a1091adc-098e-4355-ac3e-9b0fdf21d60d",
   "metadata": {},
   "outputs": [
    {
     "data": {
      "text/plain": [
       "['abnormal', 'abnormal', 'abnormal', 'abnormal', 'abnormal', 'abnormal']"
      ]
     },
     "execution_count": 10,
     "metadata": {},
     "output_type": "execute_result"
    }
   ],
   "source": [
    "result"
   ]
  },
  {
   "cell_type": "code",
   "execution_count": null,
   "id": "e47709fc-4673-4648-affb-f3ccf9e80ce1",
   "metadata": {},
   "outputs": [],
   "source": []
  },
  {
   "cell_type": "code",
   "execution_count": null,
   "id": "58c3d207-e266-4269-a9e0-36ed3f824a41",
   "metadata": {},
   "outputs": [],
   "source": []
  },
  {
   "cell_type": "code",
   "execution_count": null,
   "id": "1a871068-debe-43c2-96c7-d6d858e71e81",
   "metadata": {},
   "outputs": [],
   "source": []
  },
  {
   "cell_type": "code",
   "execution_count": null,
   "id": "f538d53e-e132-4297-a85d-be28a5afc182",
   "metadata": {},
   "outputs": [],
   "source": []
  },
  {
   "cell_type": "code",
   "execution_count": null,
   "id": "6bef8005-ae4e-4cfd-b92c-f08b5f5b2af9",
   "metadata": {},
   "outputs": [],
   "source": [
    "#if Else code for five classes"
   ]
  },
  {
   "cell_type": "code",
   "execution_count": null,
   "id": "0e4267b4-801e-4021-8223-7eaf8a7a4443",
   "metadata": {},
   "outputs": [],
   "source": [
    "result=[]\n",
    "result_prob=[]\n",
    "for i in range(0,len(vid),32):\n",
    "    X = vid[i:i+32].transpose((1,2,0,3))\n",
    "    output = model.predict_on_batch(np.array([X]))\n",
    "    result_prob.append(output)\n",
    "    str1=labels1[np.argmax(output)]\n",
    "    print(str1)\n",
    "    if str1=='vandalism' or str1 == 'fighting' or str1=='shooting' or str1=='hockeyfight':\n",
    "        result.append(labels0[1])\n",
    "    else:\n",
    "        result.append(labels0[0])"
   ]
  },
  {
   "cell_type": "code",
   "execution_count": null,
   "id": "1ab8fb81-3f55-464d-a834-e24ae3a8c0f4",
   "metadata": {},
   "outputs": [],
   "source": []
  },
  {
   "cell_type": "code",
   "execution_count": 29,
   "id": "a6d76f7e-f6ce-4bff-ac8b-a7a51fc21a3f",
   "metadata": {},
   "outputs": [],
   "source": [
    "# Video Code"
   ]
  },
  {
   "cell_type": "code",
   "execution_count": 36,
   "id": "571eac4b-e7dc-418f-9739-1045c4b0fb69",
   "metadata": {},
   "outputs": [],
   "source": [
    "import cv2\n",
    "import numpy as np\n",
    "cap = cv2.VideoCapture('labels/fight.mp4')\n",
    "vid = []\n",
    "while True:\n",
    "    ret, img = cap.read()\n",
    "    if not ret:\n",
    "        break\n",
    "    vid.append(cv2.resize(img, (112, 112)))\n",
    "vid = np.array(vid, dtype=np.float32)\n"
   ]
  },
  {
   "cell_type": "code",
   "execution_count": null,
   "id": "9350504c-472b-4204-ade6-cb91248bda24",
   "metadata": {},
   "outputs": [],
   "source": [
    "result=[]\n",
    "result_prob=[]\n",
    "for i in range(0,len(vid),32):\n",
    "    X = vid[i:i+32].transpose((1,2,0,3))\n",
    "    output = model.predict_on_batch(np.array([X]))\n",
    "    result_prob.append(output)\n",
    "    output = np.argmax(output)\n",
    "    result.append(labels[output])\n"
   ]
  }
 ],
 "metadata": {
  "kernelspec": {
   "display_name": "Python 3 (ipykernel)",
   "language": "python",
   "name": "python3"
  },
  "language_info": {
   "codemirror_mode": {
    "name": "ipython",
    "version": 3
   },
   "file_extension": ".py",
   "mimetype": "text/x-python",
   "name": "python",
   "nbconvert_exporter": "python",
   "pygments_lexer": "ipython3",
   "version": "3.7.9"
  }
 },
 "nbformat": 4,
 "nbformat_minor": 5
}
