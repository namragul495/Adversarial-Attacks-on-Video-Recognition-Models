{
 "cells": [
  {
   "cell_type": "code",
   "execution_count": 3,
   "id": "597c3e5e-357c-4ae7-9b5c-54d33d0362c2",
   "metadata": {},
   "outputs": [],
   "source": [
    "# -*- coding:utf-8 -*-\n",
    "import tensorflow as tf\n",
    "from tensorflow import keras\n",
    "import numpy as np\n",
    "import random\n",
    "import cv2\n",
    "import os\n",
    "\n",
    "orignal =[]\n",
    "prediction = []"
   ]
  },
  {
   "cell_type": "code",
   "execution_count": 4,
   "id": "9a0ff77d-fb55-4ca7-8fba-dfc7cdf3c1ec",
   "metadata": {},
   "outputs": [],
   "source": [
    "#Read all test videos\n",
    "f= 'sample_images_RA'\n",
    "Test_videos =[]\n",
    "test_list = open('Labels/test.txt','r')\n",
    "for line in test_list:\n",
    "    name = line.split(\" \")[0]\n",
    "    orignal.append(line.split(\" \")[-1])\n",
    "    Test_videos.append(f+\"/\"+name)\n",
    "    "
   ]
  },
  {
   "cell_type": "code",
   "execution_count": 5,
   "id": "43ac6581-7f1f-4a05-8151-944e2ae3ba58",
   "metadata": {},
   "outputs": [],
   "source": [
    "#To load pre-trained model, trained on 2 classes \n",
    "#model = tf.keras.models.load_model('Trained Models/model_P3D.h5',compile=False)\n",
    "#model.summary()\n",
    "\n",
    "#To load pre-trained weeights,\n",
    "model = tf.keras.models.load_model('Trained Models/weights_model_P3D.hdf5',compile=False)"
   ]
  },
  {
   "cell_type": "code",
   "execution_count": 6,
   "id": "2d01d47d-d392-487c-a874-56de4a3b6aea",
   "metadata": {},
   "outputs": [],
   "source": [
    "#two classes labesl\n",
    "labels0 ={0:'abnormal', 1:'normal'}"
   ]
  },
  {
   "cell_type": "code",
   "execution_count": 8,
   "id": "65286c2d-27fb-448c-979d-5df6f1e72342",
   "metadata": {},
   "outputs": [
    {
     "data": {
      "text/plain": [
       "'sample_images_RA/0Normal/1Vandalism020_x264'"
      ]
     },
     "execution_count": 8,
     "metadata": {},
     "output_type": "execute_result"
    }
   ],
   "source": [
    "#0normal videos from 0 to 39\n",
    "#fighting videos from 40 to 54\n",
    "#shooting videos from 55 to 69\n",
    "#vandalism videos from 70 to 84\n",
    "path =Test_videos[7]\n",
    "path"
   ]
  },
  {
   "cell_type": "code",
   "execution_count": 9,
   "id": "7c637cfd-ccce-4fad-8d1e-8efe9b159f59",
   "metadata": {},
   "outputs": [],
   "source": [
    "images = os.listdir(path)\n",
    "vid = []\n",
    "for img in images:\n",
    "    img_path=path +\"/\"+img\n",
    "    img2 = cv2.imread(img_path)\n",
    "    img2= cv2.cvtColor(img2, cv2.COLOR_BGR2RGB)\n",
    "    vid.append(cv2.resize(img2, (112, 112)))\n",
    "vid = np.array(vid, dtype=np.float32)\n"
   ]
  },
  {
   "cell_type": "code",
   "execution_count": 10,
   "id": "059043a5-57d3-4bdd-928e-885e5d587c81",
   "metadata": {},
   "outputs": [
    {
     "name": "stdout",
     "output_type": "stream",
     "text": [
      "[[0.01408415 0.9859159 ]] normal\n",
      "[[0.01408415 0.9859159 ]] normal\n",
      "[[0.990195   0.00980503]] abnormal\n",
      "[[0.01408415 0.9859159 ]] normal\n",
      "[[0.01408415 0.9859159 ]] normal\n"
     ]
    }
   ],
   "source": [
    "result=[]\n",
    "length =len(vid)\n",
    "for i in range(0,len(vid),32):\n",
    "    if i+32<=length:\n",
    "        X = vid[i:i+32].transpose((1,2,0,3))\n",
    "        output = model.predict_on_batch(np.array([X]))\n",
    "        result.append(labels0[np.argmax(output)])\n",
    "        print(output,labels0[np.argmax(output)])"
   ]
  },
  {
   "cell_type": "code",
   "execution_count": null,
   "id": "a1091adc-098e-4355-ac3e-9b0fdf21d60d",
   "metadata": {},
   "outputs": [],
   "source": [
    "result"
   ]
  },
  {
   "cell_type": "code",
   "execution_count": null,
   "id": "f27739f9-5c89-488e-aefa-b580c11ea84c",
   "metadata": {},
   "outputs": [],
   "source": []
  },
  {
   "cell_type": "code",
   "execution_count": null,
   "id": "8266cb8a-8516-4b84-a018-b0e7b9c6a0cf",
   "metadata": {},
   "outputs": [],
   "source": []
  },
  {
   "cell_type": "code",
   "execution_count": null,
   "id": "9c54e3cf-509e-4695-b494-9dc7b253107a",
   "metadata": {},
   "outputs": [],
   "source": []
  },
  {
   "cell_type": "code",
   "execution_count": null,
   "id": "e47709fc-4673-4648-affb-f3ccf9e80ce1",
   "metadata": {},
   "outputs": [],
   "source": []
  },
  {
   "cell_type": "code",
   "execution_count": null,
   "id": "58c3d207-e266-4269-a9e0-36ed3f824a41",
   "metadata": {},
   "outputs": [],
   "source": []
  },
  {
   "cell_type": "code",
   "execution_count": null,
   "id": "1a871068-debe-43c2-96c7-d6d858e71e81",
   "metadata": {},
   "outputs": [],
   "source": []
  },
  {
   "cell_type": "code",
   "execution_count": null,
   "id": "f538d53e-e132-4297-a85d-be28a5afc182",
   "metadata": {},
   "outputs": [],
   "source": []
  }
 ],
 "metadata": {
  "kernelspec": {
   "display_name": "Python 3 (ipykernel)",
   "language": "python",
   "name": "python3"
  },
  "language_info": {
   "codemirror_mode": {
    "name": "ipython",
    "version": 3
   },
   "file_extension": ".py",
   "mimetype": "text/x-python",
   "name": "python",
   "nbconvert_exporter": "python",
   "pygments_lexer": "ipython3",
   "version": "3.7.9"
  }
 },
 "nbformat": 4,
 "nbformat_minor": 5
}
