{
 "cells": [
  {
   "cell_type": "code",
   "execution_count": 1,
   "id": "a978abde-6587-430e-a0fa-e9340f1d5e9e",
   "metadata": {},
   "outputs": [],
   "source": [
    "# -*- coding:utf-8 -*-\n",
    "import tensorflow as tf\n",
    "from tensorflow import keras\n",
    "import numpy as np\n",
    "import random\n",
    "import cv2\n",
    "import os\n",
    "\n",
    "orignal =[]\n"
   ]
  },
  {
   "cell_type": "code",
   "execution_count": 2,
   "id": "c3e5fed3-95a2-484d-bb6a-e27adebcc39b",
   "metadata": {},
   "outputs": [],
   "source": [
    "#Read all test videos\n",
    "test=[]\n",
    "f= 'sample_images_RA'\n",
    "Test_videos =[]\n",
    "test_list = open('Labels/test.txt','r')\n",
    "for line in test_list:\n",
    "    name = line.split(\" \")[0]\n",
    "    x=line.split(\" \")[-1]\n",
    "    test.append(x[0])\n",
    "    Test_videos.append(f+\"/\"+name)"
   ]
  },
  {
   "cell_type": "code",
   "execution_count": 3,
   "id": "42d7a932-2fd6-4201-8b0d-10a1f8e7c6f9",
   "metadata": {},
   "outputs": [],
   "source": [
    "for i in test:\n",
    "    if i=='0':\n",
    "        orignal.append('normal')\n",
    "    else:\n",
    "        orignal.append('abnormal')"
   ]
  },
  {
   "cell_type": "code",
   "execution_count": 4,
   "id": "45965bae-29b0-4176-bfd4-af9785dbb78f",
   "metadata": {},
   "outputs": [],
   "source": [
    "#To load pre-trained model, trained on 5 classes \n",
    "#model = tf.keras.models.load_model('Trained Models/model_P3D.h5',compile=False)\n",
    "\n",
    "\n",
    "#To load pre-trained weights,\n",
    "model = tf.keras.models.load_model('Trained Models/weights_model_P3D.hdf5',compile=False)"
   ]
  },
  {
   "cell_type": "code",
   "execution_count": 5,
   "id": "b20509b4-f21a-4c7d-a5c6-96cdadb1fb31",
   "metadata": {},
   "outputs": [],
   "source": [
    "#two classes labels\n",
    "labels0 ={0:'normal', 1:'abnormal'}\n",
    "prediction = []"
   ]
  },
  {
   "cell_type": "code",
   "execution_count": 6,
   "id": "b89ea37d-1d05-43e4-90ed-d7c891798b2a",
   "metadata": {},
   "outputs": [],
   "source": [
    "def play_video(frames, frame_rate=5):\n",
    "    \"\"\"\n",
    "    Play a sequence of frames as a video.\n",
    "\n",
    "    Parameters:\n",
    "    - frames: List of frames (numpy arrays representing images).\n",
    "    - frame_rate: Frames per second (default is 25).\n",
    "    \"\"\"\n",
    "    if not frames:\n",
    "        print(\"No frames to play.\")\n",
    "        return\n",
    "\n",
    "    # Get the height and width from the first frame\n",
    "    height, width, _ = frames[0].shape\n",
    "    size = (width, height)\n",
    "\n",
    "    # Create a VideoWriter object to save the video\n",
    "    video_writer = cv2.VideoWriter('output_video.avi', cv2.VideoWriter_fourcc(*'DIVX'), frame_rate, size)\n",
    "\n",
    "    # Display each frame and write it to the video file\n",
    "    for frame in frames:\n",
    "        cv2.imshow('Video Player', frame)\n",
    "        video_writer.write(frame)\n",
    "\n",
    "        # Break the loop if the 'q' key is pressed\n",
    "        if cv2.waitKey(1) & 0xFF == ord('q'):\n",
    "            break\n",
    "\n",
    "    # Release the VideoWriter and close the OpenCV window\n",
    "    video_writer.release()\n",
    "    cv2.destroyAllWindows()"
   ]
  },
  {
   "cell_type": "code",
   "execution_count": 10,
   "id": "84493528-9c8d-4815-8ff0-bdefe1b7772d",
   "metadata": {},
   "outputs": [],
   "source": [
    "all_videos =[]\n",
    "#Code for Confusion Matrix\n",
    "for video in Test_videos:\n",
    "    vid = []  # reads frames of videos\n",
    "    abnor = 0  # initialize abnormal count with 0\n",
    "    path = video\n",
    "    images = os.listdir(path)\n",
    "\n",
    "    # Define frame drop rate\n",
    "    frame_drop_rate = 3  # For example, drop every 2nd frame\n",
    "\n",
    "    for idx, img in enumerate(images):\n",
    "        if idx % frame_drop_rate == 0:  # Skip frames based on frame_drop_rate\n",
    "            continue\n",
    "\n",
    "        img_path = os.path.join(path, img)\n",
    "        img2 = cv2.imread(img_path)\n",
    "        img2 = cv2.cvtColor(img2, cv2.COLOR_BGR2RGB)\n",
    "        vid.append(cv2.resize(img2, (1024, 1024)))\n",
    "    all_videos.append(vid)\n",
    "        "
   ]
  },
  {
   "cell_type": "code",
   "execution_count": 12,
   "id": "58f95c4a-0900-4be3-8c73-19e29e98aa85",
   "metadata": {},
   "outputs": [],
   "source": [
    "play_video(all_videos[0])"
   ]
  },
  {
   "cell_type": "code",
   "execution_count": null,
   "id": "74592a14-fd6f-4845-b15c-f868ead2e7ea",
   "metadata": {},
   "outputs": [],
   "source": []
  }
 ],
 "metadata": {
  "kernelspec": {
   "display_name": "Python 3 (ipykernel)",
   "language": "python",
   "name": "python3"
  },
  "language_info": {
   "codemirror_mode": {
    "name": "ipython",
    "version": 3
   },
   "file_extension": ".py",
   "mimetype": "text/x-python",
   "name": "python",
   "nbconvert_exporter": "python",
   "pygments_lexer": "ipython3",
   "version": "3.7.9"
  }
 },
 "nbformat": 4,
 "nbformat_minor": 5
}
